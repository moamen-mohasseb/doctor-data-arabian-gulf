{
 "cells": [
  {
   "cell_type": "code",
   "execution_count": null,
   "metadata": {},
   "outputs": [],
   "source": [
    "from bs4 import BeautifulSoup as bs\n",
    "import selenium\n",
    "import unittest\n",
    "import pandas as pd\n",
    "import numpy as np\n",
    "from selenium import webdriver\n",
    "from selenium.webdriver.support.ui import Select\n",
    "from selenium.webdriver.support import expected_conditions as EC\n",
    "from selenium.webdriver.support.ui import WebDriverWait\n",
    "from selenium.webdriver.common.by import By\n",
    "import io\n",
    "import os\n",
    "import time\n",
    "import re"
   ]
  },
  {
   "cell_type": "code",
   "execution_count": null,
   "metadata": {},
   "outputs": [],
   "source": [
    "def category_data(e_name,driver) :\n",
    "    select = Select(driver.find_element_by_name(e_name))\n",
    "    options = select.options\n",
    "    df=[]\n",
    "    for option in options:\n",
    "        df.append(option.text)\n",
    "    try:\n",
    "        df.remove('Medical District *')\n",
    "    except:\n",
    "        df.remove('Speciality *')\n",
    "    return df"
   ]
  },
  {
   "cell_type": "code",
   "execution_count": null,
   "metadata": {},
   "outputs": [],
   "source": [
    "def get_div_data(source):\n",
    "    soup = bs(source,'lxml')\n",
    "    tag =soup.find_all('div','drdetails col-xs-12 col-sm-12 col-md-9 col-lg-9')\n",
    "    print('\\n___________\\n{}'.format(tag))\n",
    "    for fac in tag :\n",
    "        with open(\"tag.txt\", \"a\") as text_file:\n",
    "            text_file.writelines(fac)   \n"
   ]
  },
  {
   "cell_type": "code",
   "execution_count": null,
   "metadata": {},
   "outputs": [],
   "source": [
    "def get_selected_data(driver) :\n",
    "    driver = webdriver.Chrome('C:/webdriver/bin/chromedriver.exe')\n",
    "    driver.get('https://www.mohap.gov.ae/en/Pages/profdoctors.aspx')\n",
    "    i=0\n",
    "    source=\"\"\n",
    "    for dist in medical_district:\n",
    "            for spec in speciality :\n",
    "                try:\n",
    "                    elem = driver.find_element_by_name('ctl00$ctl54$g_358d628f_a927_4218_9168_f21c190735a7$ctl00$ddlMedicalDistrict')\n",
    "                    elem.send_keys(dist)\n",
    "                   # wait= WebDriverWait(driver,20)\n",
    "                    elem = driver.find_element_by_name('ctl00$ctl54$g_358d628f_a927_4218_9168_f21c190735a7$ctl00$ddlSpeciality')\n",
    "                    elem.send_keys(spec)\n",
    "                    elem1 = driver.find_element_by_name('ctl00$ctl54$g_358d628f_a927_4218_9168_f21c190735a7$ctl00$btnSearch')\n",
    "                    wait= WebDriverWait(driver,5)\n",
    "                    wait.until(EC.element_to_be_clickable((By.NAME,'ctl00$ctl54$g_358d628f_a927_4218_9168_f21c190735a7$ctl00$btnSearch')))\n",
    "                    elem1.click()\n",
    "                    time.sleep(4) \n",
    "                    s=driver.page_source\n",
    "                    source += s\n",
    "                   # elem = driver.find_element_by_class_name('drdetails col-xs-12 col-sm-12 col-md-9 col-lg-9')\n",
    "                    s=driver.page_source\n",
    "                    if s.find('No record found matching your criteria. Please refine your search.')>0:\n",
    "                        print(\"found \\n \")\n",
    "                        continue\n",
    "                    else:\n",
    "                         print(\"####\")\n",
    "                    source += s\n",
    "                    file_name=\"C:/Users/moamen_mohasseb/Doctor-data/data-files/{}_{}.txt\".format(dist,spec)\n",
    "                    with open(file_name, \"w\",encoding=\"utf8\") as text_file:\n",
    "                        text_file.write(s)\n",
    "                  \n",
    "                    i+=1\n",
    "                    print('ok \\n')\n",
    "                    driver.refresh()\n",
    "\n",
    "                except Exception as ex :\n",
    "                    print('####exception#### ',ex)\n",
    "                    continue\n",
    "    driver.quit()"
   ]
  },
  {
   "cell_type": "code",
   "execution_count": null,
   "metadata": {},
   "outputs": [],
   "source": [
    "driver = webdriver.Chrome('C:/webdriver/bin/chromedriver.exe')\n",
    "driver.get('https://www.mohap.gov.ae/en/Pages/profdoctors.aspx')\n",
    "e_name='ctl00$ctl54$g_358d628f_a927_4218_9168_f21c190735a7$ctl00$ddlMedicalDistrict'\n",
    "select_df = pd.DataFrame()\n",
    "medical_district=category_data(e_name,driver)\n",
    "e_name='ctl00$ctl54$g_358d628f_a927_4218_9168_f21c190735a7$ctl00$ddlSpeciality' \n",
    "speciality=category_data(e_name,driver)\n",
    "driver.quit()"
   ]
  },
  {
   "cell_type": "code",
   "execution_count": null,
   "metadata": {},
   "outputs": [],
   "source": [
    "medical_district"
   ]
  },
  {
   "cell_type": "markdown",
   "metadata": {},
   "source": [
    "### Get Data from site https://www.mohap.gov.ae/en/Pages/profdoctors.aspx \n",
    " * crawling all expected result from the site eatch page in file \n",
    " * get data from each file into pandas data frame \n",
    " * export data to csv file"
   ]
  },
  {
   "cell_type": "code",
   "execution_count": null,
   "metadata": {},
   "outputs": [],
   "source": [
    "get_selected_data(driver)"
   ]
  },
  {
   "cell_type": "code",
   "execution_count": null,
   "metadata": {},
   "outputs": [],
   "source": [
    "all_data=[]\n",
    "for url in os.listdir('C:/Users/moamen_mohasseb/Doctor-data/data-files/') :\n",
    "    with open('C:/Users/moamen_mohasseb/Doctor-data/data-files/{}'.format(url), \"r\") as text_file:\n",
    "        soup=bs(text_file.read(),'lxml')\n",
    "        tags=soup.find_all('div','drdetails col-xs-12 col-sm-12 col-md-9 col-lg-9')\n",
    "        for tag in tags :\n",
    "            temp=tag.text.strip().replace('\\n\\n','|').replace('||','|')\n",
    "            all_data.append(temp.replace('\\n',''))\n",
    "            print(temp.replace('\\n',''),\"\\n new \\n\")"
   ]
  },
  {
   "cell_type": "code",
   "execution_count": null,
   "metadata": {},
   "outputs": [],
   "source": [
    "all_data"
   ]
  },
  {
   "cell_type": "code",
   "execution_count": null,
   "metadata": {},
   "outputs": [],
   "source": [
    "doctor_name_list=[]\n",
    "medical_title_list=[]\n",
    "Facility_Name_list=[]\n",
    "Nationality_list=[]\n",
    "for row in all_data :\n",
    "    print(str(row))\n",
    "    doctor_name=re.search(r'[a-zA-Z\\-\\s]+[a-zA-Z\\-\\s]+[a-zA-Z\\-\\s]+[|]',str(row)).group().split('|')[0]\n",
    "    facility_name=re.search(r'Facility Name :[a-zA-Z0-9\\s-]+\\w*',str(row)).group().split('Facility Name :')[1]\n",
    "    medical_title=re.search(r'Medical Title :[a-zA-Z0-9\\s-]+\\w*',str(row)).group().split('Medical Title :')[1]\n",
    "    nationality=re.search(r'Nationality :[a-zA-Z0-9\\s-]+\\w*',str(row)).group().split('Nationality :')[1]\n",
    "    print('\\n',doctor_name,'\\n',medical_title,'\\n',facility_name,'\\n',nationality,'\\n')\n",
    "    doctor_name_list.append(str(doctor_name).title())\n",
    "    medical_title_list.append(medical_title)\n",
    "    Facility_Name_list.append(facility_name)\n",
    "    Nationality_list.append(nationality)\n",
    "    "
   ]
  },
  {
   "cell_type": "code",
   "execution_count": null,
   "metadata": {},
   "outputs": [],
   "source": [
    "doctor_df=pd.DataFrame()\n",
    "doctor_df['Doctor_name']=doctor_name_list\n",
    "doctor_df['Medical_title']=medical_title_list\n",
    "doctor_df['Facility_Name']=Facility_Name_list\n",
    "doctor_df['Nationality']=Nationality_list\n",
    "doctor_df"
   ]
  },
  {
   "cell_type": "code",
   "execution_count": null,
   "metadata": {},
   "outputs": [],
   "source": [
    "doctor_df.to_csv('C:/Users/moamen_mohasseb/Doctor-data/doctor_data.csv',index=0)"
   ]
  },
  {
   "cell_type": "code",
   "execution_count": null,
   "metadata": {},
   "outputs": [],
   "source": []
  }
 ],
 "metadata": {
  "kernelspec": {
   "display_name": "Python 3",
   "language": "python",
   "name": "python3"
  },
  "language_info": {
   "codemirror_mode": {
    "name": "ipython",
    "version": 3
   },
   "file_extension": ".py",
   "mimetype": "text/x-python",
   "name": "python",
   "nbconvert_exporter": "python",
   "pygments_lexer": "ipython3",
   "version": "3.8.3"
  }
 },
 "nbformat": 4,
 "nbformat_minor": 4
}
