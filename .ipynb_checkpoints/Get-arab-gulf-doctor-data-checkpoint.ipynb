{
 "cells": [
  {
   "cell_type": "code",
   "execution_count": 18,
   "metadata": {},
   "outputs": [],
   "source": [
    "from bs4 import BeautifulSoup as bs\n",
    "import selenium\n",
    "import unittest\n",
    "import pandas as pd\n",
    "import numpy as np\n",
    "from selenium import webdriver\n",
    "from selenium.webdriver.support.ui import Select\n",
    "from selenium.webdriver.support import expected_conditions as EC\n",
    "from selenium.webdriver.support.ui import WebDriverWait\n",
    "from selenium.webdriver.common.by import By\n",
    "import io\n",
    "import os\n",
    "import time\n",
    "import re"
   ]
  },
  {
   "cell_type": "code",
   "execution_count": 19,
   "metadata": {},
   "outputs": [],
   "source": [
    "def category_data(e_name,driver) :\n",
    "    select = Select(driver.find_element_by_name(e_name))\n",
    "    options = select.options\n",
    "    df=[]\n",
    "    for option in options:\n",
    "        df.append(option.text)\n",
    "    try:\n",
    "        df.remove('Medical District *')\n",
    "    except:\n",
    "        df.remove('Speciality *')\n",
    "    return df"
   ]
  },
  {
   "cell_type": "code",
   "execution_count": 20,
   "metadata": {},
   "outputs": [],
   "source": [
    "def get_div_data(source):\n",
    "    soup = bs(source,'lxml')\n",
    "    tag =soup.find_all('div','drdetails col-xs-12 col-sm-12 col-md-9 col-lg-9')\n",
    "    print('\\n___________\\n{}'.format(tag))\n",
    "    for fac in tag :\n",
    "        with open(\"tag.txt\", \"a\") as text_file:\n",
    "            text_file.writelines(fac)   \n"
   ]
  },
  {
   "cell_type": "code",
   "execution_count": 30,
   "metadata": {},
   "outputs": [],
   "source": [
    "def get_selected_data(driver) :\n",
    "    driver = webdriver.Chrome('C:/webdriver/bin/chromedriver.exe')\n",
    "    driver.get('https://www.mohap.gov.ae/en/Pages/profdoctors.aspx')\n",
    "    i=0\n",
    "    source=\"\"\n",
    "    for dist in medical_district:\n",
    "            for spec in speciality :\n",
    "                try:\n",
    "                    elem = driver.find_element_by_name('ctl00$ctl54$g_358d628f_a927_4218_9168_f21c190735a7$ctl00$ddlMedicalDistrict')\n",
    "                    elem.send_keys(dist)\n",
    "                   # wait= WebDriverWait(driver,20)\n",
    "                    elem = driver.find_element_by_name('ctl00$ctl54$g_358d628f_a927_4218_9168_f21c190735a7$ctl00$ddlSpeciality')\n",
    "                    elem.send_keys(spec)\n",
    "                    elem1 = driver.find_element_by_name('ctl00$ctl54$g_358d628f_a927_4218_9168_f21c190735a7$ctl00$btnSearch')\n",
    "                    wait= WebDriverWait(driver,5)\n",
    "                    wait.until(EC.element_to_be_clickable((By.NAME,'ctl00$ctl54$g_358d628f_a927_4218_9168_f21c190735a7$ctl00$btnSearch')))\n",
    "                    elem1.click()\n",
    "                    time.sleep(4) \n",
    "                    s=driver.page_source\n",
    "                    source += s\n",
    "                   # elem = driver.find_element_by_class_name('drdetails col-xs-12 col-sm-12 col-md-9 col-lg-9')\n",
    "                    s=driver.page_source\n",
    "                    if s.find('No record found matching your criteria. Please refine your search.')>0:\n",
    "                        print(\"found \\n \")\n",
    "                        continue\n",
    "                    else:\n",
    "                         print(\"####\")\n",
    "                    source += s\n",
    "                    file_name=\"C:/Users/moamen_mohasseb/Doctor-data/data-files/{}_{}.txt\".format(dist,spec)\n",
    "                    with open(file_name, \"w\",encoding=\"utf8\") as text_file:\n",
    "                        text_file.write(s)\n",
    "                  \n",
    "                    i+=1\n",
    "                    print('ok \\n')\n",
    "                    driver.refresh()\n",
    "\n",
    "                except Exception as ex :\n",
    "                    print('####exception#### ',ex)\n",
    "                    continue\n",
    "    driver.quit()"
   ]
  },
  {
   "cell_type": "code",
   "execution_count": 22,
   "metadata": {},
   "outputs": [],
   "source": [
    "driver = webdriver.Chrome('C:/webdriver/bin/chromedriver.exe')\n",
    "driver.get('https://www.mohap.gov.ae/en/Pages/profdoctors.aspx')\n",
    "e_name='ctl00$ctl54$g_358d628f_a927_4218_9168_f21c190735a7$ctl00$ddlMedicalDistrict'\n",
    "select_df = pd.DataFrame()\n",
    "medical_district=category_data(e_name,driver)\n",
    "e_name='ctl00$ctl54$g_358d628f_a927_4218_9168_f21c190735a7$ctl00$ddlSpeciality' \n",
    "speciality=category_data(e_name,driver)\n",
    "driver.quit()"
   ]
  },
  {
   "cell_type": "code",
   "execution_count": 23,
   "metadata": {},
   "outputs": [
    {
     "data": {
      "text/plain": [
       "['Dubai',\n",
       " 'Sharjah',\n",
       " 'Abu Dhabi',\n",
       " 'Ras Al Khaima',\n",
       " 'Umm al-Quwain',\n",
       " 'Fujairah',\n",
       " 'Ajman']"
      ]
     },
     "execution_count": 23,
     "metadata": {},
     "output_type": "execute_result"
    }
   ],
   "source": [
    "medical_district"
   ]
  },
  {
   "cell_type": "code",
   "execution_count": null,
   "metadata": {},
   "outputs": [
    {
     "name": "stdout",
     "output_type": "stream",
     "text": [
      "found \n",
      " \n",
      "found \n",
      " \n",
      "####exception####  Message: stale element reference: element is not attached to the page document\n",
      "  (Session info: chrome=87.0.4280.141)\n",
      "\n",
      "####\n",
      "ok \n",
      "\n",
      "####\n",
      "ok \n",
      "\n",
      "####exception####  Message: chrome not reachable\n",
      "  (Session info: chrome=87.0.4280.141)\n",
      "\n",
      "####exception####  Message: chrome not reachable\n",
      "  (Session info: chrome=87.0.4280.141)\n",
      "\n",
      "####exception####  Message: chrome not reachable\n",
      "  (Session info: chrome=87.0.4280.141)\n",
      "\n",
      "####exception####  Message: chrome not reachable\n",
      "  (Session info: chrome=87.0.4280.141)\n",
      "\n",
      "####exception####  Message: chrome not reachable\n",
      "  (Session info: chrome=87.0.4280.141)\n",
      "\n",
      "####exception####  Message: chrome not reachable\n",
      "  (Session info: chrome=87.0.4280.141)\n",
      "\n",
      "####exception####  Message: chrome not reachable\n",
      "  (Session info: chrome=87.0.4280.141)\n",
      "\n",
      "####exception####  Message: chrome not reachable\n",
      "  (Session info: chrome=87.0.4280.141)\n",
      "\n",
      "####exception####  Message: chrome not reachable\n",
      "  (Session info: chrome=87.0.4280.141)\n",
      "\n",
      "####exception####  Message: chrome not reachable\n",
      "  (Session info: chrome=87.0.4280.141)\n",
      "\n",
      "####exception####  Message: chrome not reachable\n",
      "  (Session info: chrome=87.0.4280.141)\n",
      "\n",
      "####exception####  Message: chrome not reachable\n",
      "  (Session info: chrome=87.0.4280.141)\n",
      "\n",
      "####exception####  Message: chrome not reachable\n",
      "  (Session info: chrome=87.0.4280.141)\n",
      "\n",
      "####exception####  Message: chrome not reachable\n",
      "  (Session info: chrome=87.0.4280.141)\n",
      "\n",
      "####exception####  Message: chrome not reachable\n",
      "  (Session info: chrome=87.0.4280.141)\n",
      "\n",
      "####exception####  Message: chrome not reachable\n",
      "  (Session info: chrome=87.0.4280.141)\n",
      "\n",
      "####exception####  Message: chrome not reachable\n",
      "  (Session info: chrome=87.0.4280.141)\n",
      "\n",
      "####exception####  Message: chrome not reachable\n",
      "  (Session info: chrome=87.0.4280.141)\n",
      "\n",
      "####exception####  Message: chrome not reachable\n",
      "  (Session info: chrome=87.0.4280.141)\n",
      "\n"
     ]
    }
   ],
   "source": [
    "get_selected_data(driver)"
   ]
  },
  {
   "cell_type": "code",
   "execution_count": null,
   "metadata": {},
   "outputs": [],
   "source": []
  }
 ],
 "metadata": {
  "kernelspec": {
   "display_name": "Python 3",
   "language": "python",
   "name": "python3"
  },
  "language_info": {
   "codemirror_mode": {
    "name": "ipython",
    "version": 3
   },
   "file_extension": ".py",
   "mimetype": "text/x-python",
   "name": "python",
   "nbconvert_exporter": "python",
   "pygments_lexer": "ipython3",
   "version": "3.8.3"
  }
 },
 "nbformat": 4,
 "nbformat_minor": 4
}
